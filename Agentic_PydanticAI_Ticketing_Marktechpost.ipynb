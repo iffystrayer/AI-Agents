{
  "nbformat": 4,
  "nbformat_minor": 0,
  "metadata": {
    "colab": {
      "provenance": [],
      "include_colab_link": true
    },
    "kernelspec": {
      "name": "python3",
      "display_name": "Python 3"
    },
    "language_info": {
      "name": "python"
    }
  },
  "cells": [
    {
      "cell_type": "markdown",
      "metadata": {
        "id": "view-in-github",
        "colab_type": "text"
      },
      "source": [
        "<a href=\"https://colab.research.google.com/github/iffystrayer/AI-Agents/blob/main/Agentic_PydanticAI_Ticketing_Marktechpost.ipynb\" target=\"_parent\"><img src=\"https://colab.research.google.com/assets/colab-badge.svg\" alt=\"Open In Colab\"/></a>"
      ]
    },
    {
      "cell_type": "code",
      "source": [
        "!pip install --upgrade pip\n",
        "!pip install pydantic-ai"
      ],
      "metadata": {
        "id": "DhQNwc0nQyA1"
      },
      "execution_count": null,
      "outputs": []
    },
    {
      "cell_type": "code",
      "source": [
        "import os\n",
        "from getpass import getpass\n",
        "\n",
        "if \"GEMINI_API_KEY\" not in os.environ:\n",
        "    os.environ[\"GEMINI_API_KEY\"] = getpass(\"Enter your Google Gemini API key: \")"
      ],
      "metadata": {
        "colab": {
          "base_uri": "https://localhost:8080/"
        },
        "id": "85QmqCI6Q2T7",
        "outputId": "bbf09a76-e314-43d5-973c-53152fd51509"
      },
      "execution_count": null,
      "outputs": [
        {
          "name": "stdout",
          "output_type": "stream",
          "text": [
            "Enter your Google Gemini API key: ··········\n"
          ]
        }
      ]
    },
    {
      "cell_type": "code",
      "source": [
        "!pip install nest_asyncio"
      ],
      "metadata": {
        "colab": {
          "base_uri": "https://localhost:8080/"
        },
        "id": "9UjZ8D__RYdS",
        "outputId": "49fdf265-a3f3-44be-b484-4cfed0b8d802"
      },
      "execution_count": null,
      "outputs": [
        {
          "output_type": "stream",
          "name": "stdout",
          "text": [
            "Requirement already satisfied: nest_asyncio in /usr/local/lib/python3.11/dist-packages (1.6.0)\n"
          ]
        }
      ]
    },
    {
      "cell_type": "code",
      "source": [
        "import sqlite3\n",
        "import uuid\n",
        "from dataclasses import dataclass\n",
        "from typing import Literal\n",
        "\n",
        "from pydantic import BaseModel, Field\n",
        "from pydantic_ai import Agent, RunContext"
      ],
      "metadata": {
        "id": "NTAPaO85TPfD"
      },
      "execution_count": null,
      "outputs": []
    },
    {
      "cell_type": "code",
      "source": [
        "conn = sqlite3.connect(\":memory:\")\n",
        "conn.execute(\"\"\"\n",
        "CREATE TABLE tickets (\n",
        "    ticket_id TEXT PRIMARY KEY,\n",
        "    summary   TEXT NOT NULL,\n",
        "    severity  TEXT NOT NULL,\n",
        "    department TEXT NOT NULL,\n",
        "    status    TEXT NOT NULL\n",
        ")\n",
        "\"\"\")\n",
        "conn.commit()"
      ],
      "metadata": {
        "id": "K2LZdk1vTTpC"
      },
      "execution_count": null,
      "outputs": []
    },
    {
      "cell_type": "code",
      "source": [
        "@dataclass\n",
        "class TicketingDependencies:\n",
        "    \"\"\"Carries our DB connection into system prompts and tools.\"\"\"\n",
        "    db: sqlite3.Connection\n",
        "\n",
        "class CreateTicketOutput(BaseModel):\n",
        "    ticket_id: str = Field(..., description=\"Unique ticket identifier\")\n",
        "    summary: str   = Field(..., description=\"Text summary of the issue\")\n",
        "    severity: Literal[\"low\",\"medium\",\"high\"] = Field(..., description=\"Urgency level\")\n",
        "    department: str = Field(..., description=\"Responsible department\")\n",
        "    status: Literal[\"open\"] = Field(\"open\", description=\"Initial ticket status\")\n",
        "\n",
        "class TicketStatusOutput(BaseModel):\n",
        "    ticket_id: str = Field(..., description=\"Unique ticket identifier\")\n",
        "    status: Literal[\"open\",\"in_progress\",\"resolved\"] = Field(..., description=\"Current ticket status\")"
      ],
      "metadata": {
        "id": "dIQAQHFJTXhR"
      },
      "execution_count": null,
      "outputs": []
    },
    {
      "cell_type": "code",
      "source": [
        "create_agent = Agent(\n",
        "    \"google-gla:gemini-2.0-flash\",\n",
        "    deps_type=TicketingDependencies,\n",
        "    output_type=CreateTicketOutput,\n",
        "    system_prompt=\"You are a ticketing assistant. Use the `create_ticket` tool to log new issues.\"\n",
        ")\n",
        "\n",
        "@create_agent.tool\n",
        "async def create_ticket(\n",
        "    ctx: RunContext[TicketingDependencies],\n",
        "    summary: str,\n",
        "    severity: Literal[\"low\",\"medium\",\"high\"],\n",
        "    department: str\n",
        ") -> CreateTicketOutput:\n",
        "    \"\"\"\n",
        "    Logs a new ticket in the database.\n",
        "    \"\"\"\n",
        "    tid = str(uuid.uuid4())\n",
        "    ctx.deps.db.execute(\n",
        "        \"INSERT INTO tickets VALUES (?,?,?,?,?)\",\n",
        "        (tid, summary, severity, department, \"open\")\n",
        "    )\n",
        "    ctx.deps.db.commit()\n",
        "    return CreateTicketOutput(\n",
        "        ticket_id=tid,\n",
        "        summary=summary,\n",
        "        severity=severity,\n",
        "        department=department,\n",
        "        status=\"open\"\n",
        "    )"
      ],
      "metadata": {
        "id": "aw2pbhltTbKY"
      },
      "execution_count": null,
      "outputs": []
    },
    {
      "cell_type": "code",
      "source": [
        "status_agent = Agent(\n",
        "    \"google-gla:gemini-2.0-flash\",\n",
        "    deps_type=TicketingDependencies,\n",
        "    output_type=TicketStatusOutput,\n",
        "    system_prompt=\"You are a ticketing assistant. Use the `get_ticket_status` tool to retrieve current status.\"\n",
        ")\n",
        "\n",
        "@status_agent.tool\n",
        "async def get_ticket_status(\n",
        "    ctx: RunContext[TicketingDependencies],\n",
        "    ticket_id: str\n",
        ") -> TicketStatusOutput:\n",
        "    \"\"\"\n",
        "    Fetches the ticket status from the database.\n",
        "    \"\"\"\n",
        "    cur = ctx.deps.db.execute(\n",
        "        \"SELECT status FROM tickets WHERE ticket_id = ?\", (ticket_id,)\n",
        "    )\n",
        "    row = cur.fetchone()\n",
        "    if not row:\n",
        "        raise ValueError(f\"No ticket found for ID {ticket_id!r}\")\n",
        "    return TicketStatusOutput(ticket_id=ticket_id, status=row[0])"
      ],
      "metadata": {
        "id": "EB_K4XDwTcNS"
      },
      "execution_count": null,
      "outputs": []
    },
    {
      "cell_type": "code",
      "source": [
        "deps = TicketingDependencies(db=conn)\n",
        "\n",
        "create_result = await create_agent.run(\n",
        "    \"My printer on 3rd floor shows a paper jam error.\", deps=deps\n",
        ")\n",
        "\n",
        "print(\"Created Ticket →\")\n",
        "print(create_result.output.model_dump_json(indent=2))\n",
        "\n",
        "tid = create_result.output.ticket_id\n",
        "status_result = await status_agent.run(\n",
        "    f\"What's the status of ticket {tid}?\", deps=deps\n",
        ")\n",
        "\n",
        "print(\"Ticket Status →\")\n",
        "print(status_result.output.model_dump_json(indent=2))"
      ],
      "metadata": {
        "colab": {
          "base_uri": "https://localhost:8080/"
        },
        "id": "_9A3kbyVTh-W",
        "outputId": "d2fb9224-cae5-4465-cb4e-0892a24fdcc4"
      },
      "execution_count": null,
      "outputs": [
        {
          "output_type": "stream",
          "name": "stdout",
          "text": [
            "Created Ticket →\n",
            "{\n",
            "  \"ticket_id\": \"5c8decaf-c22e-439f-967f-fa63011503d9\",\n",
            "  \"summary\": \"Printer on 3rd floor shows a paper jam error\",\n",
            "  \"severity\": \"medium\",\n",
            "  \"department\": \"Hardware\",\n",
            "  \"status\": \"open\"\n",
            "}\n",
            "Ticket Status →\n",
            "{\n",
            "  \"ticket_id\": \"5c8decaf-c22e-439f-967f-fa63011503d9\",\n",
            "  \"status\": \"open\"\n",
            "}\n"
          ]
        }
      ]
    }
  ]
}